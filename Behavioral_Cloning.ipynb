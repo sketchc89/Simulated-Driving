{
 "cells": [
  {
   "cell_type": "markdown",
   "metadata": {},
   "source": [
    "# Behavioral Cloning"
   ]
  },
  {
   "cell_type": "code",
   "execution_count": 1,
   "metadata": {},
   "outputs": [
    {
     "name": "stderr",
     "output_type": "stream",
     "text": [
      "Using TensorFlow backend.\n"
     ]
    },
    {
     "name": "stdout",
     "output_type": "stream",
     "text": [
      "Tensorflow version 1.3.0\n",
      "Keras version 2.0.8\n"
     ]
    }
   ],
   "source": [
    "import tensorflow as tf\n",
    "import keras\n",
    "from keras.models import Model\n",
    "from keras.preprocessing.image import ImageDataGenerator\n",
    "from keras.optimizers import Adam\n",
    "import numpy as np\n",
    "import pandas as pd\n",
    "import matplotlib.pyplot as plt\n",
    "import matplotlib.image as mpimg\n",
    "import sklearn.utils\n",
    "import sklearn.model_selection\n",
    "import cv2\n",
    "%matplotlib inline\n",
    "print('Tensorflow version {0}'.format(tf.__version__))\n",
    "print('Keras version {0}'.format(keras.__version__))"
   ]
  },
  {
   "cell_type": "code",
   "execution_count": 2,
   "metadata": {
    "collapsed": true
   },
   "outputs": [],
   "source": [
    "def change_brightness(img, lower_bound=0, upper_bound=255):\n",
    "    '''\n",
    "    Uniformly changes the brightness of an image randomly without overflowing.\n",
    "    Change in brightness limited by original brightness of image\n",
    "    '''\n",
    "    img = cv2.cvtColor(img, cv2.COLOR_RGB2HSV)\n",
    "    img[:,:,2] = img[:,:,2]/2 + np.random.randint(lower_bound, upper_bound)/2\n",
    "    img = cv2.cvtColor(img, cv2.COLOR_HSV2RGB)\n",
    "    return img"
   ]
  },
  {
   "cell_type": "code",
   "execution_count": 3,
   "metadata": {
    "collapsed": true
   },
   "outputs": [],
   "source": [
    "# def bin_angles(y, n_bins = 20):\n",
    "#     '''Computes a bin number for each steering angle in order to balance classes'''\n",
    "#     return np.floor((y - np.min(y))*n_bins/(np.max(y) - np.min(y)))\n",
    "\n",
    "def bin_weights(y, n_bins=10):\n",
    "    '''Balances numbered classes and returns array of weights to apply to each class'''\n",
    "    y_bins = np.floor((y - np.min(y))*n_bins/(np.max(y) - np.min(y)))\n",
    "    class_weight = sklearn.utils.class_weight.compute_class_weight('balanced', \n",
    "                                                                   np.unique(y_bins), \n",
    "                                                                   y_bins)\n",
    "    class_dict = dict(zip(np.unique(y_bins), class_weight))\n",
    "    return np.vectorize(class_dict.get)(y_bins)"
   ]
  },
  {
   "cell_type": "markdown",
   "metadata": {},
   "source": [
    "## File I/O\n",
    "Want to read in a directory of jpg files and write out hdf5"
   ]
  },
  {
   "cell_type": "markdown",
   "metadata": {},
   "source": [
    "### Unbalanced Classes\n",
    "We would like to have an equal distribution of steering angles to reduce the bias for zero driving angle. We will apply sample weights to balance the effect of each class."
   ]
  },
  {
   "cell_type": "code",
   "execution_count": 4,
   "metadata": {
    "collapsed": true
   },
   "outputs": [],
   "source": [
    "# Separate CSV into numpy array of strings and numpy array of floats\n",
    "file_paths = np.genfromtxt('./driving_data/driving_log.csv', dtype=np.str, usecols=(0,1,2), delimiter=',')\n",
    "homogenous_samples = np.genfromtxt('./driving_data/driving_log.csv', delimiter=',', usecols=(3,4,5,6))\n",
    "# Compute sample weights\n",
    "steering_angles = homogenous_samples[:,0]\n",
    "homogenous_samples = np.hstack((homogenous_samples, \n",
    "                        np.expand_dims(bin_weights(steering_angles), axis=1)))"
   ]
  },
  {
   "cell_type": "code",
   "execution_count": 5,
   "metadata": {},
   "outputs": [
    {
     "data": {
      "text/plain": [
       "(array([   845.,    809.,   1294.,   2135.,   3966.,  17769.,   1757.,\n",
       "          1066.,    792.,    777.]),\n",
       " array([-1. , -0.8, -0.6, -0.4, -0.2,  0. ,  0.2,  0.4,  0.6,  0.8,  1. ]),\n",
       " <a list of 10 Patch objects>)"
      ]
     },
     "execution_count": 5,
     "metadata": {},
     "output_type": "execute_result"
    },
    {
     "data": {
      "image/png": "[encoded data removed]",
      "text/plain": [
       "<matplotlib.figure.Figure at 0x7f990ab66fd0>"
      ]
     },
     "metadata": {},
     "output_type": "display_data"
    }
   ],
   "source": [
    "plt.hist(steering_angles, bins=10)"
   ]
  },
  {
   "cell_type": "markdown",
   "metadata": {},
   "source": [
    "Save files to directory so that we can read them with `flow_from_directory`. Shoving them into an array causes memory errors."
   ]
  },
  {
   "cell_type": "markdown",
   "metadata": {},
   "source": [
    "### L-R Camera compensation\n",
    "\n",
    "A correction factor of 0.1 is added to the left camera and subtracted from the right camera to compensate for the lateral position of the camera relative to the center. The value of the correction factor should be evaluated."
   ]
  },
  {
   "cell_type": "code",
   "execution_count": 10,
   "metadata": {
    "collapsed": true
   },
   "outputs": [],
   "source": [
    "def generator(file_paths, samples, batch_size, lr_shift):\n",
    "    num_samples = len(samples)\n",
    "    if len(samples) != len(file_paths):\n",
    "        print('TODO: Error Message, incompatible arrays {0} {1}'.format(len(samples), len(file_paths)))\n",
    "    while True:\n",
    "        file_paths, samples = sklearn.utils.shuffle(file_paths, samples)\n",
    "        for offset in range(0, num_samples, batch_size):\n",
    "            batch_files = file_paths[offset:offset + batch_size]\n",
    "            batch_samples = samples[offset:offset + batch_size]\n",
    "            \n",
    "            images = []\n",
    "            measurements = []\n",
    "#             weights = []\n",
    "            for batch_file in batch_files:\n",
    "                #Read images from file\n",
    "                center_file  = batch_file[0]\n",
    "                left_file    = batch_file[1]\n",
    "                right_file   = batch_file[2]\n",
    "                center_image = mpimg.imread(center_file)\n",
    "                left_image   = mpimg.imread(left_file)\n",
    "                right_image  = mpimg.imread(right_file)\n",
    "                #Flip images\n",
    "                flip_center  = np.fliplr(center_image)\n",
    "                flip_left    = np.fliplr(left_image)\n",
    "                flip_right   = np.fliplr(right_image)\n",
    "                #Change brightness of images\n",
    "                center_image = change_brightness(center_image)\n",
    "                left_image   = change_brightness(left_image)\n",
    "                right_image  = change_brightness(right_image)\n",
    "                flip_center  = change_brightness(flip_center)\n",
    "                flip_left    = change_brightness(flip_left)\n",
    "                flip_right   = change_brightness(flip_right)\n",
    "                images.append(center_image)\n",
    "                images.append(left_image)\n",
    "                images.append(right_image)\n",
    "                images.append(flip_center)\n",
    "                images.append(flip_left)\n",
    "                images.append(flip_right)\n",
    "            \n",
    "            for batch_sample in batch_samples:\n",
    "                steer_angle  = batch_sample[0]\n",
    "#                 sample_weight = batch_sample[4]\n",
    "                \n",
    "                #Steering angle offsets\n",
    "                measurements.append(steer_angle)\n",
    "                measurements.append(steer_angle+lr_shift)\n",
    "                measurements.append(steer_angle-lr_shift)\n",
    "                measurements.append(-steer_angle)\n",
    "                measurements.append(-steer_angle-lr_shift)\n",
    "                measurements.append(-steer_angle+lr_shift)\n",
    "#                 weights += [sample_weight]*6\n",
    "                \n",
    "            X_train = np.array(images)\n",
    "            y_train = np.array(measurements)\n",
    "#             y_weights = np.array(weights)\n",
    "            yield sklearn.utils.shuffle(X_train, y_train)#, y_weights)"
   ]
  },
  {
   "cell_type": "code",
   "execution_count": 11,
   "metadata": {
    "collapsed": true
   },
   "outputs": [],
   "source": [
    "BATCH_SIZE = 32\n",
    "SHIFT = 0.1\n",
    "train_files, val_files, train_samples, val_samples = \\\n",
    "    sklearn.model_selection.train_test_split(file_paths, homogenous_samples, test_size=0.2)\n",
    "train_generator = generator(train_files, train_samples, batch_size=BATCH_SIZE, lr_shift=SHIFT)\n",
    "validation_generator = generator(val_files, val_samples, batch_size=BATCH_SIZE, lr_shift=SHIFT)"
   ]
  },
  {
   "cell_type": "code",
   "execution_count": 12,
   "metadata": {},
   "outputs": [
    {
     "name": "stdout",
     "output_type": "stream",
     "text": [
      "Epoch 1/5\n",
      "811s - loss: 0.0545 - val_loss: 0.0455\n",
      "Epoch 2/5\n",
      "807s - loss: 0.0428 - val_loss: 0.0404\n",
      "Epoch 3/5\n",
      "797s - loss: 0.0388 - val_loss: 0.0383\n",
      "Epoch 4/5\n",
      "799s - loss: 0.0365 - val_loss: 0.0365\n",
      "Epoch 5/5\n",
      "793s - loss: 0.0352 - val_loss: 0.0360\n"
     ]
    }
   ],
   "source": [
    "from keras.models import Sequential\n",
    "from keras.layers import Flatten, Dense, Lambda, Conv2D\n",
    "from keras.layers import MaxPooling2D, Cropping2D, Dropout\n",
    "\n",
    "model = Sequential()\n",
    "model.add(Cropping2D(cropping=((50,20), (0,0)), input_shape=(160,320,3)))\n",
    "model.add(Lambda(lambda x: x/255.0 - 0.5))\n",
    "model.add(Conv2D(24, (5,5), activation='elu', padding='same'))\n",
    "model.add(MaxPooling2D())\n",
    "model.add(Conv2D(36, (5,5), activation='elu', padding='same'))\n",
    "model.add(MaxPooling2D())\n",
    "model.add(Conv2D(48, (5,5), activation='elu', padding='same'))\n",
    "model.add(MaxPooling2D())\n",
    "model.add(Conv2D(64, (3,3), activation='elu', padding='same'))\n",
    "model.add(MaxPooling2D())\n",
    "model.add(Conv2D(64, (3,3), activation='elu', padding='same'))\n",
    "model.add(MaxPooling2D())\n",
    "model.add(Flatten())\n",
    "model.add(Dense(128, activation='elu'))\n",
    "model.add(Dense(64, activation='elu'))\n",
    "model.add(Dense(32, activation='elu'))\n",
    "model.add(Dense(1))\n",
    "model.compile(loss='mse', optimizer=Adam(lr=0.0001))\n",
    "history_object = model.fit_generator(train_generator, \n",
    "                                     steps_per_epoch=len(train_samples)/BATCH_SIZE,\n",
    "                                     validation_data=validation_generator, \n",
    "                                     validation_steps=len(val_samples)/BATCH_SIZE,\n",
    "                                     epochs=5, \n",
    "                                     verbose=2)\n",
    "model.save('model{0}.h5'.format(np.datetime_as_string(np.datetime64('now'))))"
   ]
  },
  {
   "cell_type": "code",
   "execution_count": null,
   "metadata": {
    "collapsed": true
   },
   "outputs": [],
   "source": [
    "from keras.models import Sequential\n",
    "from keras.layers import Flatten, Dense, Lambda, Conv2D\n",
    "from keras.layers import MaxPooling2D, Cropping2D, Dropout\n",
    "\n",
    "model = Sequential()\n",
    "model.add(Cropping2D(cropping=((50,20), (0,0)), input_shape=(160,320,3)))\n",
    "model.add(Lambda(lambda x: x/255.0 - 0.5))\n",
    "model.add(Conv2D(24, (5,5), activation='elu', padding='same'))\n",
    "model.add(MaxPooling2D())\n",
    "model.add(Conv2D(36, (5,5), activation='elu', padding='same'))\n",
    "model.add(MaxPooling2D())\n",
    "model.add(Conv2D(48, (5,5), activation='elu', padding='same'))\n",
    "model.add(MaxPooling2D())\n",
    "model.add(Conv2D(64, (3,3), activation='elu', padding='same'))\n",
    "model.add(MaxPooling2D())\n",
    "model.add(Conv2D(64, (3,3), activation='elu', padding='same'))\n",
    "model.add(MaxPooling2D())\n",
    "model.add(Flatten())\n",
    "model.add(Dense(512, activation='elu'))\n",
    "model.add(Dropout(0.5))\n",
    "model.add(Dense(128, activation='elu'))\n",
    "model.add(Dropout(0.5))\n",
    "model.add(Dense(32, activation='elu'))\n",
    "model.add(Dense(1))\n",
    "model.compile(loss='mse', optimizer=Adam(lr=0.0001))\n",
    "history_object = model.fit_generator(train_generator, \n",
    "                                     steps_per_epoch=len(train_samples)/BATCH_SIZE,\n",
    "                                     validation_data=validation_generator, \n",
    "                                     validation_steps=len(val_samples)/BATCH_SIZE,\n",
    "                                     epochs=10, \n",
    "                                     verbose=2)\n",
    "model.save('model{0}.h5'.format(np.datetime_as_string(np.datetime64('now'))))"
   ]
  },
  {
   "cell_type": "code",
   "execution_count": 13,
   "metadata": {
    "scrolled": true
   },
   "outputs": [
    {
     "name": "stdout",
     "output_type": "stream",
     "text": [
      "_________________________________________________________________\n",
      "Layer (type)                 Output Shape              Param #   \n",
      "=================================================================\n",
      "cropping2d_2 (Cropping2D)    (None, 90, 320, 3)        0         \n",
      "_________________________________________________________________\n",
      "lambda_2 (Lambda)            (None, 90, 320, 3)        0         \n",
      "_________________________________________________________________\n",
      "conv2d_6 (Conv2D)            (None, 90, 320, 24)       1824      \n",
      "_________________________________________________________________\n",
      "max_pooling2d_6 (MaxPooling2 (None, 45, 160, 24)       0         \n",
      "_________________________________________________________________\n",
      "conv2d_7 (Conv2D)            (None, 45, 160, 36)       21636     \n",
      "_________________________________________________________________\n",
      "max_pooling2d_7 (MaxPooling2 (None, 22, 80, 36)        0         \n",
      "_________________________________________________________________\n",
      "conv2d_8 (Conv2D)            (None, 22, 80, 48)        43248     \n",
      "_________________________________________________________________\n",
      "max_pooling2d_8 (MaxPooling2 (None, 11, 40, 48)        0         \n",
      "_________________________________________________________________\n",
      "conv2d_9 (Conv2D)            (None, 11, 40, 64)        27712     \n",
      "_________________________________________________________________\n",
      "max_pooling2d_9 (MaxPooling2 (None, 5, 20, 64)         0         \n",
      "_________________________________________________________________\n",
      "conv2d_10 (Conv2D)           (None, 5, 20, 64)         36928     \n",
      "_________________________________________________________________\n",
      "max_pooling2d_10 (MaxPooling (None, 2, 10, 64)         0         \n",
      "_________________________________________________________________\n",
      "flatten_2 (Flatten)          (None, 1280)              0         \n",
      "_________________________________________________________________\n",
      "dense_5 (Dense)              (None, 128)               163968    \n",
      "_________________________________________________________________\n",
      "dense_6 (Dense)              (None, 64)                8256      \n",
      "_________________________________________________________________\n",
      "dense_7 (Dense)              (None, 32)                2080      \n",
      "_________________________________________________________________\n",
      "dense_8 (Dense)              (None, 1)                 33        \n",
      "=================================================================\n",
      "Total params: 305,685\n",
      "Trainable params: 305,685\n",
      "Non-trainable params: 0\n",
      "_________________________________________________________________\n"
     ]
    }
   ],
   "source": [
    "model.summary()"
   ]
  },
  {
   "cell_type": "code",
   "execution_count": 14,
   "metadata": {
    "collapsed": true
   },
   "outputs": [],
   "source": [
    "from keras.utils import plot_model\n",
    "plot_model(model, to_file='model{0}.png'.format(np.datetime_as_string(np.datetime64('now'))))"
   ]
  },
  {
   "cell_type": "code",
   "execution_count": 11,
   "metadata": {},
   "outputs": [
    {
     "data": {
      "image/svg+xml": [
       "<svg height=\"1286pt\" viewBox=\"0.00 0.00 213.00 1286.00\" width=\"213pt\" xmlns=\"http://www.w3.org/2000/svg\" xmlns:xlink=\"http://www.w3.org/1999/xlink\">\n",
       "<g class=\"graph\" id=\"graph0\" transform=\"scale(1 1) rotate(0) translate(4 1282)\">\n",
       "<title>G</title>\n",
       "<polygon fill=\"white\" points=\"-4,4 -4,-1282 209,-1282 209,4 -4,4\" stroke=\"none\"/>\n",
       "<!-- 139807496439960 -->\n",
       "<g class=\"node\" id=\"node1\"><title>139807496439960</title>\n",
       "<polygon fill=\"none\" points=\"4.5,-1241.5 4.5,-1277.5 200.5,-1277.5 200.5,-1241.5 4.5,-1241.5\" stroke=\"black\"/>\n",
       "<text font-family=\"Times,serif\" font-size=\"14.00\" text-anchor=\"middle\" x=\"102.5\" y=\"-1255.8\">cropping2d_1_input: InputLayer</text>\n",
       "</g>\n",
       "<!-- 139807496439792 -->\n",
       "<g class=\"node\" id=\"node2\"><title>139807496439792</title>\n",
       "<polygon fill=\"none\" points=\"19,-1168.5 19,-1204.5 186,-1204.5 186,-1168.5 19,-1168.5\" stroke=\"black\"/>\n",
       "<text font-family=\"Times,serif\" font-size=\"14.00\" text-anchor=\"middle\" x=\"102.5\" y=\"-1182.8\">cropping2d_1: Cropping2D</text>\n",
       "</g>\n",
       "<!-- 139807496439960&#45;&gt;139807496439792 -->\n",
       "<g class=\"edge\" id=\"edge1\"><title>139807496439960-&gt;139807496439792</title>\n",
       "<path d=\"M102.5,-1241.31C102.5,-1233.29 102.5,-1223.55 102.5,-1214.57\" fill=\"none\" stroke=\"black\"/>\n",
       "<polygon fill=\"black\" points=\"106,-1214.53 102.5,-1204.53 99.0001,-1214.53 106,-1214.53\" stroke=\"black\"/>\n",
       "</g>\n",
       "<!-- 139807496439736 -->\n",
       "<g class=\"node\" id=\"node3\"><title>139807496439736</title>\n",
       "<polygon fill=\"none\" points=\"41.5,-1095.5 41.5,-1131.5 163.5,-1131.5 163.5,-1095.5 41.5,-1095.5\" stroke=\"black\"/>\n",
       "<text font-family=\"Times,serif\" font-size=\"14.00\" text-anchor=\"middle\" x=\"102.5\" y=\"-1109.8\">lambda_1: Lambda</text>\n",
       "</g>\n",
       "<!-- 139807496439792&#45;&gt;139807496439736 -->\n",
       "<g class=\"edge\" id=\"edge2\"><title>139807496439792-&gt;139807496439736</title>\n",
       "<path d=\"M102.5,-1168.31C102.5,-1160.29 102.5,-1150.55 102.5,-1141.57\" fill=\"none\" stroke=\"black\"/>\n",
       "<polygon fill=\"black\" points=\"106,-1141.53 102.5,-1131.53 99.0001,-1141.53 106,-1141.53\" stroke=\"black\"/>\n",
       "</g>\n",
       "<!-- 139807496440464 -->\n",
       "<g class=\"node\" id=\"node4\"><title>139807496440464</title>\n",
       "<polygon fill=\"none\" points=\"41,-1022.5 41,-1058.5 164,-1058.5 164,-1022.5 41,-1022.5\" stroke=\"black\"/>\n",
       "<text font-family=\"Times,serif\" font-size=\"14.00\" text-anchor=\"middle\" x=\"102.5\" y=\"-1036.8\">conv2d_1: Conv2D</text>\n",
       "</g>\n",
       "<!-- 139807496439736&#45;&gt;139807496440464 -->\n",
       "<g class=\"edge\" id=\"edge3\"><title>139807496439736-&gt;139807496440464</title>\n",
       "<path d=\"M102.5,-1095.31C102.5,-1087.29 102.5,-1077.55 102.5,-1068.57\" fill=\"none\" stroke=\"black\"/>\n",
       "<polygon fill=\"black\" points=\"106,-1068.53 102.5,-1058.53 99.0001,-1068.53 106,-1068.53\" stroke=\"black\"/>\n",
       "</g>\n",
       "<!-- 139807496439904 -->\n",
       "<g class=\"node\" id=\"node5\"><title>139807496439904</title>\n",
       "<polygon fill=\"none\" points=\"-1.42109e-14,-949.5 -1.42109e-14,-985.5 205,-985.5 205,-949.5 -1.42109e-14,-949.5\" stroke=\"black\"/>\n",
       "<text font-family=\"Times,serif\" font-size=\"14.00\" text-anchor=\"middle\" x=\"102.5\" y=\"-963.8\">max_pooling2d_1: MaxPooling2D</text>\n",
       "</g>\n",
       "<!-- 139807496440464&#45;&gt;139807496439904 -->\n",
       "<g class=\"edge\" id=\"edge4\"><title>139807496440464-&gt;139807496439904</title>\n",
       "<path d=\"M102.5,-1022.31C102.5,-1014.29 102.5,-1004.55 102.5,-995.569\" fill=\"none\" stroke=\"black\"/>\n",
       "<polygon fill=\"black\" points=\"106,-995.529 102.5,-985.529 99.0001,-995.529 106,-995.529\" stroke=\"black\"/>\n",
       "</g>\n",
       "<!-- 139807496354896 -->\n",
       "<g class=\"node\" id=\"node6\"><title>139807496354896</title>\n",
       "<polygon fill=\"none\" points=\"41,-876.5 41,-912.5 164,-912.5 164,-876.5 41,-876.5\" stroke=\"black\"/>\n",
       "<text font-family=\"Times,serif\" font-size=\"14.00\" text-anchor=\"middle\" x=\"102.5\" y=\"-890.8\">conv2d_2: Conv2D</text>\n",
       "</g>\n",
       "<!-- 139807496439904&#45;&gt;139807496354896 -->\n",
       "<g class=\"edge\" id=\"edge5\"><title>139807496439904-&gt;139807496354896</title>\n",
       "<path d=\"M102.5,-949.313C102.5,-941.289 102.5,-931.547 102.5,-922.569\" fill=\"none\" stroke=\"black\"/>\n",
       "<polygon fill=\"black\" points=\"106,-922.529 102.5,-912.529 99.0001,-922.529 106,-922.529\" stroke=\"black\"/>\n",
       "</g>\n",
       "<!-- 139807496043096 -->\n",
       "<g class=\"node\" id=\"node7\"><title>139807496043096</title>\n",
       "<polygon fill=\"none\" points=\"-1.42109e-14,-803.5 -1.42109e-14,-839.5 205,-839.5 205,-803.5 -1.42109e-14,-803.5\" stroke=\"black\"/>\n",
       "<text font-family=\"Times,serif\" font-size=\"14.00\" text-anchor=\"middle\" x=\"102.5\" y=\"-817.8\">max_pooling2d_2: MaxPooling2D</text>\n",
       "</g>\n",
       "<!-- 139807496354896&#45;&gt;139807496043096 -->\n",
       "<g class=\"edge\" id=\"edge6\"><title>139807496354896-&gt;139807496043096</title>\n",
       "<path d=\"M102.5,-876.313C102.5,-868.289 102.5,-858.547 102.5,-849.569\" fill=\"none\" stroke=\"black\"/>\n",
       "<polygon fill=\"black\" points=\"106,-849.529 102.5,-839.529 99.0001,-849.529 106,-849.529\" stroke=\"black\"/>\n",
       "</g>\n",
       "<!-- 139807496125744 -->\n",
       "<g class=\"node\" id=\"node8\"><title>139807496125744</title>\n",
       "<polygon fill=\"none\" points=\"41,-730.5 41,-766.5 164,-766.5 164,-730.5 41,-730.5\" stroke=\"black\"/>\n",
       "<text font-family=\"Times,serif\" font-size=\"14.00\" text-anchor=\"middle\" x=\"102.5\" y=\"-744.8\">conv2d_3: Conv2D</text>\n",
       "</g>\n",
       "<!-- 139807496043096&#45;&gt;139807496125744 -->\n",
       "<g class=\"edge\" id=\"edge7\"><title>139807496043096-&gt;139807496125744</title>\n",
       "<path d=\"M102.5,-803.313C102.5,-795.289 102.5,-785.547 102.5,-776.569\" fill=\"none\" stroke=\"black\"/>\n",
       "<polygon fill=\"black\" points=\"106,-776.529 102.5,-766.529 99.0001,-776.529 106,-776.529\" stroke=\"black\"/>\n",
       "</g>\n",
       "<!-- 139807496190440 -->\n",
       "<g class=\"node\" id=\"node9\"><title>139807496190440</title>\n",
       "<polygon fill=\"none\" points=\"-1.42109e-14,-657.5 -1.42109e-14,-693.5 205,-693.5 205,-657.5 -1.42109e-14,-657.5\" stroke=\"black\"/>\n",
       "<text font-family=\"Times,serif\" font-size=\"14.00\" text-anchor=\"middle\" x=\"102.5\" y=\"-671.8\">max_pooling2d_3: MaxPooling2D</text>\n",
       "</g>\n",
       "<!-- 139807496125744&#45;&gt;139807496190440 -->\n",
       "<g class=\"edge\" id=\"edge8\"><title>139807496125744-&gt;139807496190440</title>\n",
       "<path d=\"M102.5,-730.313C102.5,-722.289 102.5,-712.547 102.5,-703.569\" fill=\"none\" stroke=\"black\"/>\n",
       "<polygon fill=\"black\" points=\"106,-703.529 102.5,-693.529 99.0001,-703.529 106,-703.529\" stroke=\"black\"/>\n",
       "</g>\n",
       "<!-- 139807496997184 -->\n",
       "<g class=\"node\" id=\"node10\"><title>139807496997184</title>\n",
       "<polygon fill=\"none\" points=\"41,-584.5 41,-620.5 164,-620.5 164,-584.5 41,-584.5\" stroke=\"black\"/>\n",
       "<text font-family=\"Times,serif\" font-size=\"14.00\" text-anchor=\"middle\" x=\"102.5\" y=\"-598.8\">conv2d_4: Conv2D</text>\n",
       "</g>\n",
       "<!-- 139807496190440&#45;&gt;139807496997184 -->\n",
       "<g class=\"edge\" id=\"edge9\"><title>139807496190440-&gt;139807496997184</title>\n",
       "<path d=\"M102.5,-657.313C102.5,-649.289 102.5,-639.547 102.5,-630.569\" fill=\"none\" stroke=\"black\"/>\n",
       "<polygon fill=\"black\" points=\"106,-630.529 102.5,-620.529 99.0001,-630.529 106,-630.529\" stroke=\"black\"/>\n",
       "</g>\n",
       "<!-- 139807497075008 -->\n",
       "<g class=\"node\" id=\"node11\"><title>139807497075008</title>\n",
       "<polygon fill=\"none\" points=\"-1.42109e-14,-511.5 -1.42109e-14,-547.5 205,-547.5 205,-511.5 -1.42109e-14,-511.5\" stroke=\"black\"/>\n",
       "<text font-family=\"Times,serif\" font-size=\"14.00\" text-anchor=\"middle\" x=\"102.5\" y=\"-525.8\">max_pooling2d_4: MaxPooling2D</text>\n",
       "</g>\n",
       "<!-- 139807496997184&#45;&gt;139807497075008 -->\n",
       "<g class=\"edge\" id=\"edge10\"><title>139807496997184-&gt;139807497075008</title>\n",
       "<path d=\"M102.5,-584.313C102.5,-576.289 102.5,-566.547 102.5,-557.569\" fill=\"none\" stroke=\"black\"/>\n",
       "<polygon fill=\"black\" points=\"106,-557.529 102.5,-547.529 99.0001,-557.529 106,-557.529\" stroke=\"black\"/>\n",
       "</g>\n",
       "<!-- 139807497174880 -->\n",
       "<g class=\"node\" id=\"node12\"><title>139807497174880</title>\n",
       "<polygon fill=\"none\" points=\"41,-438.5 41,-474.5 164,-474.5 164,-438.5 41,-438.5\" stroke=\"black\"/>\n",
       "<text font-family=\"Times,serif\" font-size=\"14.00\" text-anchor=\"middle\" x=\"102.5\" y=\"-452.8\">conv2d_5: Conv2D</text>\n",
       "</g>\n",
       "<!-- 139807497075008&#45;&gt;139807497174880 -->\n",
       "<g class=\"edge\" id=\"edge11\"><title>139807497075008-&gt;139807497174880</title>\n",
       "<path d=\"M102.5,-511.313C102.5,-503.289 102.5,-493.547 102.5,-484.569\" fill=\"none\" stroke=\"black\"/>\n",
       "<polygon fill=\"black\" points=\"106,-484.529 102.5,-474.529 99.0001,-484.529 106,-484.529\" stroke=\"black\"/>\n",
       "</g>\n",
       "<!-- 139807497242104 -->\n",
       "<g class=\"node\" id=\"node13\"><title>139807497242104</title>\n",
       "<polygon fill=\"none\" points=\"-1.42109e-14,-365.5 -1.42109e-14,-401.5 205,-401.5 205,-365.5 -1.42109e-14,-365.5\" stroke=\"black\"/>\n",
       "<text font-family=\"Times,serif\" font-size=\"14.00\" text-anchor=\"middle\" x=\"102.5\" y=\"-379.8\">max_pooling2d_5: MaxPooling2D</text>\n",
       "</g>\n",
       "<!-- 139807497174880&#45;&gt;139807497242104 -->\n",
       "<g class=\"edge\" id=\"edge12\"><title>139807497174880-&gt;139807497242104</title>\n",
       "<path d=\"M102.5,-438.313C102.5,-430.289 102.5,-420.547 102.5,-411.569\" fill=\"none\" stroke=\"black\"/>\n",
       "<polygon fill=\"black\" points=\"106,-411.529 102.5,-401.529 99.0001,-411.529 106,-411.529\" stroke=\"black\"/>\n",
       "</g>\n",
       "<!-- 139807503884128 -->\n",
       "<g class=\"node\" id=\"node14\"><title>139807503884128</title>\n",
       "<polygon fill=\"none\" points=\"46,-292.5 46,-328.5 159,-328.5 159,-292.5 46,-292.5\" stroke=\"black\"/>\n",
       "<text font-family=\"Times,serif\" font-size=\"14.00\" text-anchor=\"middle\" x=\"102.5\" y=\"-306.8\">flatten_1: Flatten</text>\n",
       "</g>\n",
       "<!-- 139807497242104&#45;&gt;139807503884128 -->\n",
       "<g class=\"edge\" id=\"edge13\"><title>139807497242104-&gt;139807503884128</title>\n",
       "<path d=\"M102.5,-365.313C102.5,-357.289 102.5,-347.547 102.5,-338.569\" fill=\"none\" stroke=\"black\"/>\n",
       "<polygon fill=\"black\" points=\"106,-338.529 102.5,-328.529 99.0001,-338.529 106,-338.529\" stroke=\"black\"/>\n",
       "</g>\n",
       "<!-- 139807503959320 -->\n",
       "<g class=\"node\" id=\"node15\"><title>139807503959320</title>\n",
       "<polygon fill=\"none\" points=\"51.5,-219.5 51.5,-255.5 153.5,-255.5 153.5,-219.5 51.5,-219.5\" stroke=\"black\"/>\n",
       "<text font-family=\"Times,serif\" font-size=\"14.00\" text-anchor=\"middle\" x=\"102.5\" y=\"-233.8\">dense_1: Dense</text>\n",
       "</g>\n",
       "<!-- 139807503884128&#45;&gt;139807503959320 -->\n",
       "<g class=\"edge\" id=\"edge14\"><title>139807503884128-&gt;139807503959320</title>\n",
       "<path d=\"M102.5,-292.313C102.5,-284.289 102.5,-274.547 102.5,-265.569\" fill=\"none\" stroke=\"black\"/>\n",
       "<polygon fill=\"black\" points=\"106,-265.529 102.5,-255.529 99.0001,-265.529 106,-265.529\" stroke=\"black\"/>\n",
       "</g>\n",
       "<!-- 139807503961784 -->\n",
       "<g class=\"node\" id=\"node16\"><title>139807503961784</title>\n",
       "<polygon fill=\"none\" points=\"51.5,-146.5 51.5,-182.5 153.5,-182.5 153.5,-146.5 51.5,-146.5\" stroke=\"black\"/>\n",
       "<text font-family=\"Times,serif\" font-size=\"14.00\" text-anchor=\"middle\" x=\"102.5\" y=\"-160.8\">dense_2: Dense</text>\n",
       "</g>\n",
       "<!-- 139807503959320&#45;&gt;139807503961784 -->\n",
       "<g class=\"edge\" id=\"edge15\"><title>139807503959320-&gt;139807503961784</title>\n",
       "<path d=\"M102.5,-219.313C102.5,-211.289 102.5,-201.547 102.5,-192.569\" fill=\"none\" stroke=\"black\"/>\n",
       "<polygon fill=\"black\" points=\"106,-192.529 102.5,-182.529 99.0001,-192.529 106,-192.529\" stroke=\"black\"/>\n",
       "</g>\n",
       "<!-- 139807503833744 -->\n",
       "<g class=\"node\" id=\"node17\"><title>139807503833744</title>\n",
       "<polygon fill=\"none\" points=\"51.5,-73.5 51.5,-109.5 153.5,-109.5 153.5,-73.5 51.5,-73.5\" stroke=\"black\"/>\n",
       "<text font-family=\"Times,serif\" font-size=\"14.00\" text-anchor=\"middle\" x=\"102.5\" y=\"-87.8\">dense_3: Dense</text>\n",
       "</g>\n",
       "<!-- 139807503961784&#45;&gt;139807503833744 -->\n",
       "<g class=\"edge\" id=\"edge16\"><title>139807503961784-&gt;139807503833744</title>\n",
       "<path d=\"M102.5,-146.313C102.5,-138.289 102.5,-128.547 102.5,-119.569\" fill=\"none\" stroke=\"black\"/>\n",
       "<polygon fill=\"black\" points=\"106,-119.529 102.5,-109.529 99.0001,-119.529 106,-119.529\" stroke=\"black\"/>\n",
       "</g>\n",
       "<!-- 139807506851152 -->\n",
       "<g class=\"node\" id=\"node18\"><title>139807506851152</title>\n",
       "<polygon fill=\"none\" points=\"51.5,-0.5 51.5,-36.5 153.5,-36.5 153.5,-0.5 51.5,-0.5\" stroke=\"black\"/>\n",
       "<text font-family=\"Times,serif\" font-size=\"14.00\" text-anchor=\"middle\" x=\"102.5\" y=\"-14.8\">dense_4: Dense</text>\n",
       "</g>\n",
       "<!-- 139807503833744&#45;&gt;139807506851152 -->\n",
       "<g class=\"edge\" id=\"edge17\"><title>139807503833744-&gt;139807506851152</title>\n",
       "<path d=\"M102.5,-73.3129C102.5,-65.2895 102.5,-55.5475 102.5,-46.5691\" fill=\"none\" stroke=\"black\"/>\n",
       "<polygon fill=\"black\" points=\"106,-46.5288 102.5,-36.5288 99.0001,-46.5289 106,-46.5288\" stroke=\"black\"/>\n",
       "</g>\n",
       "</g>\n",
       "</svg>"
      ],
      "text/plain": [
       "<IPython.core.display.SVG object>"
      ]
     },
     "execution_count": 11,
     "metadata": {},
     "output_type": "execute_result"
    }
   ],
   "source": [
    "from IPython.display import SVG\n",
    "from keras.utils.vis_utils import model_to_dot\n",
    "\n",
    "SVG(model_to_dot(model).create(prog='dot', format='svg'))"
   ]
  },
  {
   "cell_type": "code",
   "execution_count": null,
   "metadata": {
    "collapsed": true
   },
   "outputs": [],
   "source": [
    "# center = mpimg.imread(log['CenterImg'][0])\n",
    "# left = mpimg.imread(log['LeftImg'][0])\n",
    "# right = mpimg.imread(log['RightImg'][0])\n",
    "fig = plt.figure(figsize=(12,3))\n",
    "plt.suptitle('Car Images')\n",
    "axl = plt.subplot(1,3,1)\n",
    "plt.imshow(left)\n",
    "axc = plt.subplot(1,3,2)\n",
    "plt.imshow(center)\n",
    "axr = plt.subplot(1,3,3)\n",
    "plt.imshow(right)\n",
    "plt.show()"
   ]
  }
 ],
 "metadata": {
  "kernelspec": {
   "display_name": "Python 3",
   "language": "python",
   "name": "python3"
  },
  "language_info": {
   "codemirror_mode": {
    "name": "ipython",
    "version": 3
   },
   "file_extension": ".py",
   "mimetype": "text/x-python",
   "name": "python",
   "nbconvert_exporter": "python",
   "pygments_lexer": "ipython3",
   "version": "3.5.3"
  }
 },
 "nbformat": 4,
 "nbformat_minor": 2
}
