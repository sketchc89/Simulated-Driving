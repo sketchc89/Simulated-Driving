{
 "cells": [
  {
   "cell_type": "markdown",
   "metadata": {},
   "source": [
    "# Behavioral Cloning"
   ]
  },
  {
   "cell_type": "code",
   "execution_count": 1,
   "metadata": {},
   "outputs": [
    {
     "name": "stderr",
     "output_type": "stream",
     "text": [
      "Using TensorFlow backend.\n"
     ]
    },
    {
     "name": "stdout",
     "output_type": "stream",
     "text": [
      "Tensorflow version 1.3.0\n",
      "Keras version 2.0.8\n"
     ]
    }
   ],
   "source": [
    "import tensorflow as tf\n",
    "import keras\n",
    "from keras.models import Model\n",
    "from keras.preprocessing.image import ImageDataGenerator\n",
    "from keras.optimizers import Adam\n",
    "import numpy as np\n",
    "import pandas as pd\n",
    "import matplotlib.pyplot as plt\n",
    "import matplotlib.image as mpimg\n",
    "import sklearn.utils\n",
    "import sklearn.model_selection\n",
    "import cv2\n",
    "%matplotlib inline\n",
    "print('Tensorflow version {0}'.format(tf.__version__))\n",
    "print('Keras version {0}'.format(keras.__version__))"
   ]
  },
  {
   "cell_type": "code",
   "execution_count": 3,
   "metadata": {
    "collapsed": true
   },
   "outputs": [],
   "source": [
    "def change_brightness(img, lower_bound=0, upper_bound=255):\n",
    "    '''\n",
    "    Uniformly changes the brightness of an image randomly without overflowing.\n",
    "    Change in brightness limited by original brightness of image\n",
    "    '''\n",
    "    img = cv2.cvtColor(img, cv2.COLOR_RGB2HSV)\n",
    "    img[:,:,2] = img[:,:,2]/2 + np.random.randint(lower_bound, upper_bound)/2\n",
    "    img = cv2.cvtColor(img, cv2.COLOR_HSV2RGB)\n",
    "    return img"
   ]
  },
  {
   "cell_type": "code",
   "execution_count": 4,
   "metadata": {
    "collapsed": true
   },
   "outputs": [],
   "source": [
    "# def bin_angles(y, n_bins = 20):\n",
    "#     '''Computes a bin number for each steering angle in order to balance classes'''\n",
    "#     return np.floor((y - np.min(y))*n_bins/(np.max(y) - np.min(y)))\n",
    "\n",
    "def bin_weights(y, n_bins=10):\n",
    "    '''Balances numbered classes and returns array of weights to apply to each class'''\n",
    "    y_bins = np.floor((y - np.min(y))*n_bins/(np.max(y) - np.min(y)))\n",
    "    class_weight = sklearn.utils.class_weight.compute_class_weight('balanced', \n",
    "                                                                   np.unique(y_bins), \n",
    "                                                                   y_bins)\n",
    "    class_dict = dict(zip(np.unique(y_bins), class_weight))\n",
    "    return np.vectorize(class_dict.get)(y_bins)"
   ]
  },
  {
   "cell_type": "markdown",
   "metadata": {},
   "source": [
    "## File I/O\n",
    "Want to read in a directory of jpg files and write out hdf5"
   ]
  },
  {
   "cell_type": "code",
   "execution_count": 5,
   "metadata": {},
   "outputs": [],
   "source": [
    "# Separate CSV into numpy array of strings and numpy array of floats\n",
    "file_paths = np.genfromtxt('./driving_data/driving_log.csv', dtype=np.str, usecols=(0,1,2), delimiter=',')\n",
    "homogenous_samples = np.genfromtxt('./driving_data/driving_log.csv', delimiter=',', usecols=(3,4,5,6))\n",
    "# Compute sample weights\n",
    "steering_angles = homogenous_samples[:,0]\n",
    "homogenous_samples = np.hstack((homogenous_samples, \n",
    "                        np.expand_dims(bin_weights(steering_angles), axis=1)))"
   ]
  },
  {
   "cell_type": "markdown",
   "metadata": {},
   "source": [
    "### Unbalanced Classes\n",
    "We would like to have an equal distribution of steering angles to reduce the bias for zero driving angle. We will apply sample weights to balance the effect of each class."
   ]
  },
  {
   "cell_type": "code",
   "execution_count": 6,
   "metadata": {},
   "outputs": [
    {
     "ename": "NameError",
     "evalue": "name 'measurements' is not defined",
     "output_type": "error",
     "traceback": [
      "\u001b[0;31m---------------------------------------------------------------------------\u001b[0m",
      "\u001b[0;31mNameError\u001b[0m                                 Traceback (most recent call last)",
      "\u001b[0;32m<ipython-input-6-dd86cce16d82>\u001b[0m in \u001b[0;36m<module>\u001b[0;34m()\u001b[0m\n\u001b[0;32m----> 1\u001b[0;31m \u001b[0my\u001b[0m \u001b[0;34m=\u001b[0m \u001b[0mnp\u001b[0m\u001b[0;34m.\u001b[0m\u001b[0marray\u001b[0m\u001b[0;34m(\u001b[0m\u001b[0mmeasurements\u001b[0m\u001b[0;34m)\u001b[0m\u001b[0;34m\u001b[0m\u001b[0m\n\u001b[0m\u001b[1;32m      2\u001b[0m \u001b[0my_weights\u001b[0m \u001b[0;34m=\u001b[0m \u001b[0mbin_weights\u001b[0m\u001b[0;34m(\u001b[0m\u001b[0my\u001b[0m\u001b[0;34m)\u001b[0m\u001b[0;34m\u001b[0m\u001b[0m\n\u001b[1;32m      3\u001b[0m \u001b[0;34m\u001b[0m\u001b[0m\n\u001b[1;32m      4\u001b[0m \u001b[0;31m#Check whether contains nan\u001b[0m\u001b[0;34m\u001b[0m\u001b[0;34m\u001b[0m\u001b[0m\n\u001b[1;32m      5\u001b[0m \u001b[0mprint\u001b[0m\u001b[0;34m(\u001b[0m\u001b[0;34m'y contains nan: {}'\u001b[0m\u001b[0;34m.\u001b[0m\u001b[0mformat\u001b[0m\u001b[0;34m(\u001b[0m\u001b[0mnp\u001b[0m\u001b[0;34m.\u001b[0m\u001b[0misnan\u001b[0m\u001b[0;34m(\u001b[0m\u001b[0mnp\u001b[0m\u001b[0;34m.\u001b[0m\u001b[0mmin\u001b[0m\u001b[0;34m(\u001b[0m\u001b[0my\u001b[0m\u001b[0;34m)\u001b[0m\u001b[0;34m)\u001b[0m\u001b[0;34m)\u001b[0m\u001b[0;34m)\u001b[0m\u001b[0;34m\u001b[0m\u001b[0m\n",
      "\u001b[0;31mNameError\u001b[0m: name 'measurements' is not defined"
     ]
    }
   ],
   "source": [
    "y = np.array(measurements)\n",
    "y_weights = bin_weights(y)\n",
    "\n",
    "#Check whether contains nan\n",
    "print('y contains nan: {}'.format(np.isnan(np.min(y))))\n",
    "print('y_weights contains nan: {}'.format(np.isnan(np.min(y_weights))))"
   ]
  },
  {
   "cell_type": "code",
   "execution_count": null,
   "metadata": {
    "collapsed": true
   },
   "outputs": [],
   "source": [
    "np.unique(y_weights)"
   ]
  },
  {
   "cell_type": "code",
   "execution_count": null,
   "metadata": {
    "collapsed": true
   },
   "outputs": [],
   "source": [
    "plt.hist(y, bins=10)"
   ]
  },
  {
   "cell_type": "markdown",
   "metadata": {},
   "source": [
    "Save files to directory so that we can read them with `flow_from_directory`. Shoving them into an array causes memory errors."
   ]
  },
  {
   "cell_type": "code",
   "execution_count": null,
   "metadata": {
    "collapsed": true
   },
   "outputs": [],
   "source": [
    "from keras.models import Sequential\n",
    "from keras.layers import Flatten, Dense, Lambda, Conv2D\n",
    "from keras.layers import MaxPooling2D, Cropping2D\n",
    "\n",
    "model = Sequential()\n",
    "model.add(Cropping2D(cropping=((20,8), (0,0)), input_shape=(64,128,3)))\n",
    "model.add(Lambda(lambda x: x/255.0 - 0.5))\n",
    "model.add(Conv2D(24, (5,5), activation='elu', padding='same'))\n",
    "model.add(MaxPooling2D())\n",
    "model.add(Conv2D(36, (5,5), activation='elu', padding='same'))\n",
    "model.add(MaxPooling2D())\n",
    "model.add(Conv2D(48, (5,5), activation='elu', padding='same'))\n",
    "model.add(MaxPooling2D())\n",
    "model.add(Conv2D(64, (3,3), activation='elu', padding='same'))\n",
    "model.add(MaxPooling2D())\n",
    "model.add(Flatten())\n",
    "model.add(Dense(100, activation='elu'))\n",
    "model.add(Dense(50, activation='elu'))\n",
    "model.add(Dense(1))\n",
    "model.compile(loss='mse', optimizer=Adam(lr=0.0001))\n",
    "history_object = model.fit(X, y, validation_split=0.2, \n",
    "          sample_weight=y_weights, shuffle=True, verbose=2)\n",
    "model.save('model{0}.h5'.format(np.datetime_as_string(np.datetime64('now'))))"
   ]
  },
  {
   "cell_type": "code",
   "execution_count": null,
   "metadata": {
    "collapsed": true
   },
   "outputs": [],
   "source": [
    "model.summary()"
   ]
  },
  {
   "cell_type": "code",
   "execution_count": null,
   "metadata": {
    "collapsed": true
   },
   "outputs": [],
   "source": [
    "log[0:10]"
   ]
  },
  {
   "cell_type": "code",
   "execution_count": null,
   "metadata": {
    "collapsed": true
   },
   "outputs": [],
   "source": [
    "measurements = []\n"
   ]
  },
  {
   "cell_type": "markdown",
   "metadata": {},
   "source": [
    "### L-R Camera compensation\n",
    "\n",
    "A correction factor of 0.2 is added to the left camera and subtracted from the right camera to compensate for the lateral position of the camera relative to the center. The value of the correction factor should be evaluated."
   ]
  },
  {
   "cell_type": "code",
   "execution_count": 7,
   "metadata": {
    "collapsed": true
   },
   "outputs": [],
   "source": [
    "def generator(file_paths, samples, batch_size=32, offset=0.2):\n",
    "    num_samples = len(samples)\n",
    "    if len(samples) != len(file_paths):\n",
    "        print('TODO: Error Message, incompatible arrays {0} {1}'.format(len(samples), len(file_paths)))\n",
    "    while True:\n",
    "        file_paths, samples = sklearn.utils.shuffle(file_paths, samples)\n",
    "        for offset in range(0, num_samples, batch_size):\n",
    "            batch_files = file_paths[offset:offset + batch_size]\n",
    "            batch_samples = samples[offset:offset + batch_size]\n",
    "            \n",
    "            images = []\n",
    "            measurements = []\n",
    "            weights = []\n",
    "            for batch_file in batch_files:\n",
    "                #Read images from file\n",
    "                center_file  = batch_file[0]\n",
    "                left_file    = batch_file[1]\n",
    "                right_file   = batch_file[2]\n",
    "                center_image = mpimg.imread(center_file)\n",
    "                left_image   = mpimg.imread(left_file)\n",
    "                right_image  = mpimg.imread(right_file)\n",
    "                #Change brightness of images\n",
    "                center_image = change_brightness(center_image)\n",
    "                left_image = change_brightness(left_image)\n",
    "                right_image = change_brightness(right_image)\n",
    "                images.append(center_image)\n",
    "                images.append(left_image)\n",
    "                images.append(right_image)\n",
    "            \n",
    "            for batch_sample in batch_samples:\n",
    "                steer_angle  = batch_sample[0]\n",
    "                sample_weight = batch_sample[4]\n",
    "                \n",
    "                #Steering angle offsets\n",
    "                measurements.append(steer_angle)\n",
    "                measurements.append(steer_angle+offset)\n",
    "                measurements.append(steer_angle-offset)\n",
    "                weights += [sample_weight]*3\n",
    "                \n",
    "            X_train = np.array(images)\n",
    "            y_train = np.array(measurements)\n",
    "            y_weights = np.array(weights)\n",
    "            yield sklearn.utils.shuffle(X_train, y_train, y_weights)"
   ]
  },
  {
   "cell_type": "code",
   "execution_count": 8,
   "metadata": {
    "collapsed": true
   },
   "outputs": [],
   "source": [
    "BATCH_SIZE = 16\n",
    "train_files, val_files, train_samples, val_samples = \\\n",
    "    sklearn.model_selection.train_test_split(file_paths, homogenous_samples, test_size=0.2)\n",
    "train_generator = generator(train_files, train_samples, batch_size=BATCH_SIZE)\n",
    "validation_generator = generator(val_files, val_samples, batch_size=BATCH_SIZE)"
   ]
  },
  {
   "cell_type": "code",
   "execution_count": 9,
   "metadata": {},
   "outputs": [],
   "source": [
    "from keras.models import Sequential\n",
    "from keras.layers import Flatten, Dense, Lambda, Conv2D\n",
    "from keras.layers import MaxPooling2D, Cropping2D, Dropout\n",
    "\n",
    "model = Sequential()\n",
    "model.add(Cropping2D(cropping=((50,20), (0,0)), input_shape=(160,320,3)))\n",
    "model.add(Lambda(lambda x: x/255.0 - 0.5))\n",
    "model.add(Conv2D(36, (5,5), activation='elu', padding='same'))\n",
    "model.add(MaxPooling2D())\n",
    "model.add(Conv2D(48, (3,3), activation='elu', padding='same'))\n",
    "model.add(MaxPooling2D())\n",
    "model.add(Conv2D(64, (3,3), activation='elu', padding='same'))\n",
    "model.add(MaxPooling2D())\n",
    "model.add(Flatten())\n",
    "model.add(Dense(512, activation='elu'))\n",
    "model.add(Dropout(0.5))\n",
    "model.add(Dense(128, activation='elu'))\n",
    "model.add(Dropout(0.5))\n",
    "model.add(Dense(32, activation='elu'))\n",
    "model.add(Dense(1))\n",
    "model.compile(loss='mse', optimizer=Adam(lr=0.0001))\n",
    "history_object = model.fit_generator(train_generator, \n",
    "                                     steps_per_epoch=len(train_samples)/BATCH_SIZE,\n",
    "                                     validation_data=validation_generator, \n",
    "                                     validation_steps=1,#len(val_samples),\n",
    "                                     epochs=5, \n",
    "                                     verbose=0)\n",
    "model.save('model{0}.h5'.format(np.datetime_as_string(np.datetime64('now'))))"
   ]
  },
  {
   "cell_type": "code",
   "execution_count": null,
   "metadata": {
    "collapsed": true
   },
   "outputs": [],
   "source": [
    "# center = mpimg.imread(log['CenterImg'][0])\n",
    "# left = mpimg.imread(log['LeftImg'][0])\n",
    "# right = mpimg.imread(log['RightImg'][0])\n",
    "fig = plt.figure(figsize=(12,3))\n",
    "plt.suptitle('Car Images')\n",
    "axl = plt.subplot(1,3,1)\n",
    "plt.imshow(left)\n",
    "axc = plt.subplot(1,3,2)\n",
    "plt.imshow(center)\n",
    "axr = plt.subplot(1,3,3)\n",
    "plt.imshow(right)\n",
    "plt.show()"
   ]
  },
  {
   "cell_type": "code",
   "execution_count": null,
   "metadata": {
    "collapsed": true
   },
   "outputs": [],
   "source": [
    "images = []\n",
    "measurements = []\n",
    "image_path = []\n",
    "offset = 0.15\n",
    "new_scale = (256, 128)\n",
    "\n",
    "for i in range(log.shape[0]):\n",
    "    #Original    \n",
    "    center = mpimg.imread(log['CenterImg'][i])\n",
    "    left = mpimg.imread(log['LeftImg'][i])\n",
    "    right = mpimg.imread(log['RightImg'][i])\n",
    "    \n",
    "    #Scale down images\n",
    "#     center = cv2.resize(center, new_scale, interpolation=cv2.INTER_AREA)\n",
    "#     left = cv2.resize(left, new_scale, interpolation=cv2.INTER_AREA)\n",
    "#     right = cv2.resize(right, new_scale, interpolation=cv2.INTER_AREA)\n",
    "    #Change brightness of images\n",
    "    center = change_brightness(center)\n",
    "    left = change_brightness(left)\n",
    "    right = change_brightness(right)\n",
    "    \n",
    "    images.append(center)\n",
    "    images.append(left)\n",
    "    images.append(right)\n",
    "    measurements.append(log['SteeringAngle'][i])\n",
    "    measurements.append(log['SteeringAngle'][i]+offset)\n",
    "    measurements.append(log['SteeringAngle'][i]-offset)\n",
    "#     image_path.append(log['CenterImg'][i])\n",
    "#     image_path.append(log['LeftImg'][i])\n",
    "#     image_path.append(log['RightImg'][i])\n",
    "\n",
    "    #Flipped\n",
    "    images.append(np.fliplr(center))\n",
    "    images.append(np.fliplr(left))\n",
    "    images.append(np.fliplr(right))\n",
    "    measurements.append(-log['SteeringAngle'][i])\n",
    "    measurements.append(-log['SteeringAngle'][i]-offset)\n",
    "    measurements.append(-log['SteeringAngle'][i]+offset)"
   ]
  },
  {
   "cell_type": "code",
   "execution_count": null,
   "metadata": {
    "collapsed": true
   },
   "outputs": [],
   "source": [
    "log = pd.read_csv('./driving_data/driving_log.csv', names=['CenterImg', 'LeftImg', 'RightImg', \n",
    "                                                           'SteeringAngle', 'Throttle', 'Break', 'Speed'])\n",
    "log.head()"
   ]
  },
  {
   "cell_type": "code",
   "execution_count": null,
   "metadata": {
    "collapsed": true
   },
   "outputs": [],
   "source": [
    "log.describe()"
   ]
  }
 ],
 "metadata": {
  "kernelspec": {
   "display_name": "Python 3",
   "language": "python",
   "name": "python3"
  },
  "language_info": {
   "codemirror_mode": {
    "name": "ipython",
    "version": 3
   },
   "file_extension": ".py",
   "mimetype": "text/x-python",
   "name": "python",
   "nbconvert_exporter": "python",
   "pygments_lexer": "ipython3",
   "version": "3.5.3"
  }
 },
 "nbformat": 4,
 "nbformat_minor": 2
}
